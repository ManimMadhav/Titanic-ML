{
 "cells": [
  {
   "cell_type": "code",
   "execution_count": 19,
   "id": "8181905e",
   "metadata": {},
   "outputs": [],
   "source": [
    "'''Task: Use machine learning to create a model that predicts which passengers survived the Titanic shipwreck.'''\n",
    "\n",
    "import pandas as pd\n",
    "import numpy as np\n",
    "import matplotlib.pyplot as plt\n",
    "\n",
    "#load training Dataset\n",
    "df = pd.read_csv(\"Datasets\\\\train.csv\")"
   ]
  },
  {
   "cell_type": "code",
   "execution_count": 20,
   "id": "53fc9d5b",
   "metadata": {},
   "outputs": [
    {
     "name": "stdout",
     "output_type": "stream",
     "text": [
      "687\n"
     ]
    },
    {
     "data": {
      "text/html": [
       "<div>\n",
       "<style scoped>\n",
       "    .dataframe tbody tr th:only-of-type {\n",
       "        vertical-align: middle;\n",
       "    }\n",
       "\n",
       "    .dataframe tbody tr th {\n",
       "        vertical-align: top;\n",
       "    }\n",
       "\n",
       "    .dataframe thead th {\n",
       "        text-align: right;\n",
       "    }\n",
       "</style>\n",
       "<table border=\"1\" class=\"dataframe\">\n",
       "  <thead>\n",
       "    <tr style=\"text-align: right;\">\n",
       "      <th></th>\n",
       "      <th>Survived</th>\n",
       "      <th>Pclass</th>\n",
       "      <th>Sex</th>\n",
       "      <th>Age</th>\n",
       "      <th>SibSp</th>\n",
       "      <th>Parch</th>\n",
       "      <th>Fare</th>\n",
       "      <th>Embarked</th>\n",
       "    </tr>\n",
       "  </thead>\n",
       "  <tbody>\n",
       "    <tr>\n",
       "      <th>0</th>\n",
       "      <td>0</td>\n",
       "      <td>3</td>\n",
       "      <td>0</td>\n",
       "      <td>22.0</td>\n",
       "      <td>1</td>\n",
       "      <td>0</td>\n",
       "      <td>7.2500</td>\n",
       "      <td>S</td>\n",
       "    </tr>\n",
       "    <tr>\n",
       "      <th>1</th>\n",
       "      <td>1</td>\n",
       "      <td>1</td>\n",
       "      <td>1</td>\n",
       "      <td>38.0</td>\n",
       "      <td>1</td>\n",
       "      <td>0</td>\n",
       "      <td>71.2833</td>\n",
       "      <td>C</td>\n",
       "    </tr>\n",
       "    <tr>\n",
       "      <th>2</th>\n",
       "      <td>1</td>\n",
       "      <td>3</td>\n",
       "      <td>1</td>\n",
       "      <td>26.0</td>\n",
       "      <td>0</td>\n",
       "      <td>0</td>\n",
       "      <td>7.9250</td>\n",
       "      <td>S</td>\n",
       "    </tr>\n",
       "    <tr>\n",
       "      <th>3</th>\n",
       "      <td>1</td>\n",
       "      <td>1</td>\n",
       "      <td>1</td>\n",
       "      <td>35.0</td>\n",
       "      <td>1</td>\n",
       "      <td>0</td>\n",
       "      <td>53.1000</td>\n",
       "      <td>S</td>\n",
       "    </tr>\n",
       "    <tr>\n",
       "      <th>4</th>\n",
       "      <td>0</td>\n",
       "      <td>3</td>\n",
       "      <td>0</td>\n",
       "      <td>35.0</td>\n",
       "      <td>0</td>\n",
       "      <td>0</td>\n",
       "      <td>8.0500</td>\n",
       "      <td>S</td>\n",
       "    </tr>\n",
       "  </tbody>\n",
       "</table>\n",
       "</div>"
      ],
      "text/plain": [
       "   Survived  Pclass  Sex   Age  SibSp  Parch     Fare Embarked\n",
       "0         0       3    0  22.0      1      0   7.2500        S\n",
       "1         1       1    1  38.0      1      0  71.2833        C\n",
       "2         1       3    1  26.0      0      0   7.9250        S\n",
       "3         1       1    1  35.0      1      0  53.1000        S\n",
       "4         0       3    0  35.0      0      0   8.0500        S"
      ]
     },
     "execution_count": 20,
     "metadata": {},
     "output_type": "execute_result"
    }
   ],
   "source": [
    "#data preprocessing\n",
    "meanAge = df['Age'].mean()\n",
    "\n",
    "#replace null values with NaN values\n",
    "#we can then fill NaN values\n",
    "df.replace(' ',np.nan)\n",
    "\n",
    "#set inplace = True to commit changes to Dataframe \n",
    "df['Age'].fillna(value=meanAge,inplace=True)\n",
    "df.replace(to_replace=\"male\", value=0,inplace=True)\n",
    "df.replace(to_replace=\"female\", value=1,inplace=True)\n",
    "\n",
    "print(df['Cabin'].isna().sum())\n",
    "#drop cabin column due to too many missing values (687 nulls out of 891 rows.)\n",
    "df.drop('Cabin',axis=1,inplace = True)\n",
    "\n",
    "#names of the passengers can be dropped too\n",
    "df.drop('Name',axis=1,inplace = True)\n",
    "df.drop('PassengerId',axis=1, inplace= True)\n",
    "df.drop('Ticket',axis=1, inplace= True)\n",
    "\n",
    "df.head()"
   ]
  },
  {
   "cell_type": "code",
   "execution_count": 21,
   "id": "d5d7b754",
   "metadata": {
    "scrolled": false
   },
   "outputs": [
    {
     "name": "stdout",
     "output_type": "stream",
     "text": [
      "     Survived  Pclass  Sex        Age  SibSp  Parch     Fare  Embarked_C  \\\n",
      "0           0       3    0  22.000000      1      0   7.2500           0   \n",
      "1           1       1    1  38.000000      1      0  71.2833           1   \n",
      "2           1       3    1  26.000000      0      0   7.9250           0   \n",
      "3           1       1    1  35.000000      1      0  53.1000           0   \n",
      "4           0       3    0  35.000000      0      0   8.0500           0   \n",
      "..        ...     ...  ...        ...    ...    ...      ...         ...   \n",
      "886         0       2    0  27.000000      0      0  13.0000           0   \n",
      "887         1       1    1  19.000000      0      0  30.0000           0   \n",
      "888         0       3    1  29.699118      1      2  23.4500           0   \n",
      "889         1       1    0  26.000000      0      0  30.0000           1   \n",
      "890         0       3    0  32.000000      0      0   7.7500           0   \n",
      "\n",
      "     Embarked_Q  Embarked_S  \n",
      "0             0           1  \n",
      "1             0           0  \n",
      "2             0           1  \n",
      "3             0           1  \n",
      "4             0           1  \n",
      "..          ...         ...  \n",
      "886           0           1  \n",
      "887           0           1  \n",
      "888           0           1  \n",
      "889           0           0  \n",
      "890           1           0  \n",
      "\n",
      "[891 rows x 10 columns]\n"
     ]
    }
   ],
   "source": [
    "#one hot encoding the 'Embarked' feature\n",
    "\n",
    "dataset = pd.get_dummies(df, columns = ['Embarked'])\n",
    "print(dataset)\n",
    "\n",
    "#set dependant and independant variables\n",
    "\n",
    "#dependant variables\n",
    "x = dataset.iloc[:,1:]\n",
    "\n",
    "#independant variable\n",
    "y = dataset.iloc[:,0]\n"
   ]
  },
  {
   "cell_type": "code",
   "execution_count": 22,
   "id": "4ff8d4e6",
   "metadata": {},
   "outputs": [
    {
     "name": "stdout",
     "output_type": "stream",
     "text": [
      "     Pclass  Sex        Age  SibSp  Parch     Fare  Embarked_C  Embarked_Q  \\\n",
      "140       3    1  29.699118      0      2  15.2458           1           0   \n",
      "439       2    0  31.000000      0      0  10.5000           0           0   \n",
      "817       2    0  31.000000      1      1  37.0042           1           0   \n",
      "378       3    0  20.000000      0      0   4.0125           1           0   \n",
      "491       3    0  21.000000      0      0   7.2500           0           0   \n",
      "..      ...  ...        ...    ...    ...      ...         ...         ...   \n",
      "835       1    1  39.000000      1      1  83.1583           1           0   \n",
      "192       3    1  19.000000      1      0   7.8542           0           0   \n",
      "629       3    0  29.699118      0      0   7.7333           0           1   \n",
      "559       3    1  36.000000      1      0  17.4000           0           0   \n",
      "684       2    0  60.000000      1      1  39.0000           0           0   \n",
      "\n",
      "     Embarked_S  \n",
      "140           0  \n",
      "439           1  \n",
      "817           0  \n",
      "378           0  \n",
      "491           1  \n",
      "..          ...  \n",
      "835           0  \n",
      "192           1  \n",
      "629           0  \n",
      "559           1  \n",
      "684           1  \n",
      "\n",
      "[712 rows x 9 columns]\n",
      "     Pclass  Sex        Age  SibSp  Parch      Fare  Embarked_C  Embarked_Q  \\\n",
      "495       3    0  29.699118      0      0   14.4583           1           0   \n",
      "648       3    0  29.699118      0      0    7.5500           0           0   \n",
      "278       3    0   7.000000      4      1   29.1250           0           1   \n",
      "31        1    1  29.699118      1      0  146.5208           1           0   \n",
      "255       3    1  29.000000      0      2   15.2458           1           0   \n",
      "..      ...  ...        ...    ...    ...       ...         ...         ...   \n",
      "780       3    1  13.000000      0      0    7.2292           1           0   \n",
      "837       3    0  29.699118      0      0    8.0500           0           0   \n",
      "215       1    1  31.000000      1      0  113.2750           1           0   \n",
      "833       3    0  23.000000      0      0    7.8542           0           0   \n",
      "372       3    0  19.000000      0      0    8.0500           0           0   \n",
      "\n",
      "     Embarked_S  \n",
      "495           0  \n",
      "648           1  \n",
      "278           0  \n",
      "31            0  \n",
      "255           0  \n",
      "..          ...  \n",
      "780           0  \n",
      "837           1  \n",
      "215           0  \n",
      "833           1  \n",
      "372           1  \n",
      "\n",
      "[179 rows x 9 columns]\n",
      "140    0\n",
      "439    0\n",
      "817    0\n",
      "378    0\n",
      "491    0\n",
      "      ..\n",
      "835    1\n",
      "192    1\n",
      "629    0\n",
      "559    1\n",
      "684    0\n",
      "Name: Survived, Length: 712, dtype: int64\n",
      "495    0\n",
      "648    0\n",
      "278    0\n",
      "31     1\n",
      "255    1\n",
      "      ..\n",
      "780    1\n",
      "837    0\n",
      "215    1\n",
      "833    0\n",
      "372    0\n",
      "Name: Survived, Length: 179, dtype: int64\n"
     ]
    }
   ],
   "source": [
    "#split dataset into training set and test set\n",
    "from sklearn.model_selection import train_test_split\n",
    "x_train, x_test, y_train, y_test = train_test_split(x,y,test_size=0.2,random_state=0)\n",
    "\n",
    "print(x_train)\n",
    "print(x_test)\n",
    "print(y_train)\n",
    "print(y_test)"
   ]
  },
  {
   "cell_type": "code",
   "execution_count": 23,
   "id": "a24e4af2",
   "metadata": {},
   "outputs": [
    {
     "name": "stdout",
     "output_type": "stream",
     "text": [
      "39.01\n"
     ]
    }
   ],
   "source": [
    "#multiple linear regression\n",
    "\n",
    "from sklearn.linear_model import LinearRegression\n",
    "regressor = LinearRegression()\n",
    "regressor.fit(x_train,y_train)\n",
    "\n",
    "y_pred = regressor.predict(x_test)\n",
    "y_pred = regressor.predict(x_test)\n",
    "regressorScore = round(regressor.score(x_train,y_train)*100 , 2)\n",
    "print(regressorScore)"
   ]
  },
  {
   "cell_type": "code",
   "execution_count": 24,
   "id": "53b6d312",
   "metadata": {},
   "outputs": [
    {
     "name": "stdout",
     "output_type": "stream",
     "text": [
      "95.53\n"
     ]
    }
   ],
   "source": [
    "#decision tree regressor\n",
    "from sklearn.tree import DecisionTreeRegressor\n",
    "dtr = DecisionTreeRegressor()\n",
    "dtr.fit(x_train,y_train)\n",
    "\n",
    "y_pred = dtr.predict(x_test)\n",
    "DTRScore = round(dtr.score(x_train,y_train)*100 , 2)\n",
    "print(DTRScore)"
   ]
  },
  {
   "cell_type": "code",
   "execution_count": 25,
   "id": "633590b4",
   "metadata": {},
   "outputs": [
    {
     "name": "stdout",
     "output_type": "stream",
     "text": [
      "88.51\n"
     ]
    }
   ],
   "source": [
    "#random forest algorithm\n",
    "\n",
    "from sklearn.ensemble import RandomForestRegressor\n",
    "#use 1000 decision trees\n",
    "rf = RandomForestRegressor(n_estimators = 1000, random_state = 42)\n",
    "\n",
    "fitX=rf.fit(x_train,y_train)\n",
    "\n",
    "y_pred = rf.predict(x_test)\n",
    "RFScore = round(rf.score(x_train,y_train)*100 , 2)\n",
    "print(RFScore)\n",
    "\n",
    "\n"
   ]
  },
  {
   "cell_type": "code",
   "execution_count": 26,
   "id": "fdd06587",
   "metadata": {},
   "outputs": [
    {
     "name": "stdout",
     "output_type": "stream",
     "text": [
      "24.09\n"
     ]
    }
   ],
   "source": [
    "#support vector regression\n",
    "\n",
    "from sklearn.svm import SVR\n",
    "svr = SVR(kernel=\"linear\")\n",
    "svr.fit(x_train,y_train)\n",
    "y_pred = svr.predict(x_test)\n",
    "SVRScore = round(svr.score(x_train,y_train)*100 , 2)\n",
    "print(SVRScore)\n"
   ]
  },
  {
   "cell_type": "code",
   "execution_count": 27,
   "id": "e2465233",
   "metadata": {},
   "outputs": [
    {
     "name": "stdout",
     "output_type": "stream",
     "text": [
      "82.72\n"
     ]
    }
   ],
   "source": [
    "# KNN\n",
    "\n",
    "from sklearn.neighbors import KNeighborsClassifier\n",
    "knn = KNeighborsClassifier(n_neighbors = 3) \n",
    "knn.fit(x_train, y_train)\n",
    "y_pred = knn.predict(x_test)\n",
    "knnScore = round(knn.score(x_train, y_train) * 100, 2)\n",
    "print(knnScore)"
   ]
  },
  {
   "cell_type": "code",
   "execution_count": 28,
   "id": "0f751471",
   "metadata": {},
   "outputs": [
    {
     "data": {
      "text/html": [
       "<div>\n",
       "<style scoped>\n",
       "    .dataframe tbody tr th:only-of-type {\n",
       "        vertical-align: middle;\n",
       "    }\n",
       "\n",
       "    .dataframe tbody tr th {\n",
       "        vertical-align: top;\n",
       "    }\n",
       "\n",
       "    .dataframe thead th {\n",
       "        text-align: right;\n",
       "    }\n",
       "</style>\n",
       "<table border=\"1\" class=\"dataframe\">\n",
       "  <thead>\n",
       "    <tr style=\"text-align: right;\">\n",
       "      <th></th>\n",
       "      <th>Model</th>\n",
       "    </tr>\n",
       "    <tr>\n",
       "      <th>Score</th>\n",
       "      <th></th>\n",
       "    </tr>\n",
       "  </thead>\n",
       "  <tbody>\n",
       "    <tr>\n",
       "      <th>95.53</th>\n",
       "      <td>Decision Tree</td>\n",
       "    </tr>\n",
       "    <tr>\n",
       "      <th>88.51</th>\n",
       "      <td>Random Forest</td>\n",
       "    </tr>\n",
       "    <tr>\n",
       "      <th>82.72</th>\n",
       "      <td>KNN</td>\n",
       "    </tr>\n",
       "    <tr>\n",
       "      <th>39.01</th>\n",
       "      <td>Linear Regression</td>\n",
       "    </tr>\n",
       "    <tr>\n",
       "      <th>24.09</th>\n",
       "      <td>SVR</td>\n",
       "    </tr>\n",
       "  </tbody>\n",
       "</table>\n",
       "</div>"
      ],
      "text/plain": [
       "                   Model\n",
       "Score                   \n",
       "95.53      Decision Tree\n",
       "88.51      Random Forest\n",
       "82.72                KNN\n",
       "39.01  Linear Regression\n",
       "24.09                SVR"
      ]
     },
     "execution_count": 28,
     "metadata": {},
     "output_type": "execute_result"
    }
   ],
   "source": [
    "results = pd.DataFrame({\n",
    "    'Model': ['SVR','Random Forest','Decision Tree','Linear Regression','KNN'],\n",
    "    'Score': [SVRScore,RFScore,DTRScore,regressorScore,knnScore]\n",
    "})\n",
    "result_df = results.sort_values(by='Score', ascending=False)\n",
    "result_df = result_df.set_index('Score')\n",
    "result_df"
   ]
  }
 ],
 "metadata": {
  "interpreter": {
   "hash": "f6246b25e200e4c5124e3e61789ac81350562f0761bbcf92ad9e48654207659c"
  },
  "kernelspec": {
   "display_name": "Python 3.9.0 64-bit",
   "language": "python",
   "name": "python3"
  },
  "language_info": {
   "codemirror_mode": {
    "name": "ipython",
    "version": 3
   },
   "file_extension": ".py",
   "mimetype": "text/x-python",
   "name": "python",
   "nbconvert_exporter": "python",
   "pygments_lexer": "ipython3",
   "version": "3.9.0"
  }
 },
 "nbformat": 4,
 "nbformat_minor": 5
}
